{
 "cells": [
  {
   "metadata": {},
   "cell_type": "markdown",
   "source": [
    "# When Options Have Slope: A Visual Guide to Call and Put Derivatives\n",
    "\n",
    "*“Wait... you can take the derivative of a call option?”*\n",
    "\n",
    "Turns out, not only **can you**, but doing so reveals the logic behind how option payoffs behave — and why they behave that way.\n",
    "\n",
    "In this notebook, we’ll explore the **derivatives of the basic call and put payoff functions** — not using stochastic models or PDEs, but just pure, visual calculus.\n",
    "\n",
    "This is part of my ongoing **Pencils & Python** series, where I document math and finance concepts as I work through foundational material in quant finance.\n"
   ],
   "id": "35929efdb3058072"
  },
  {
   "metadata": {},
   "cell_type": "markdown",
   "source": [
    "## What Are Call and Put Options?\n",
    "\n",
    "Before we dive into slopes and calculus, let’s briefly recap what these options actually are:\n",
    "\n",
    "- A **call option** gives the holder the *right* (but not the obligation) to **buy** an asset at a specified price (called the **strike price**) before or at expiration.\n",
    "\n",
    "Think of it like this: You have the right to buy a stock at 100 dollars even when its price rises to 120 dollars, letting you profit the difference.\n",
    "\n",
    "- A **put option** gives the holder the right to **sell** an asset at the strike price.\n",
    "\n",
    "  If the market price drops to 80 dollars, but your put lets you sell at 100 dollars, you just profited 20 dollars.\n",
    "\n",
    "In this post, we’re going to look at their **payoff functions** — the formulas that tell us how much these options are worth at expiration — and see how we can understand their behavior using basic calculus.\n"
   ],
   "id": "36e18bac80722052"
  },
  {
   "metadata": {},
   "cell_type": "markdown",
   "source": [
    "## What Do These Options *Actually* Pay You?\n",
    "\n",
    "Now, let’s talk about what these things are worth when they *really matter* — at expiration.\n",
    "\n",
    "A **call option** is like locking in a deal to **buy low** in case the market goes high. You’re not obligated to use it — but if it’s a good deal, you’ll take it.\n",
    "\n",
    "The formula for the value of a call at expiration is:\n",
    "\n",
    "$$\n",
    "\\text{Call Payoff} = \\max(S_T - K, 0)\n",
    "$$\n",
    "\n",
    "Basically:\n",
    "> “If the stock price \\( S_T \\) ends up above the strike price \\( K \\), I pocket the difference. If not? Meh. I walk away.”\n",
    "\n",
    "A **put option** is the opposite — it lets you **sell high**, even if the market tanks. It’s like having insurance on your shares.\n",
    "\n",
    "$$\n",
    "\\text{Put Payoff} = \\max(K - S_T, 0)\n",
    "$$\n",
    "\n",
    "So if the stock crashes? Your put gets more valuable. If the stock holds strong? The put is worth nothing — but that’s okay, you didn’t need the safety net.\n",
    "\n",
    "---\n",
    "\n",
    "In Python, we can express both payoffs using NumPy like this:\n",
    "\n"
   ],
   "id": "5784f65977ea9cfb"
  },
  {
   "metadata": {
    "ExecuteTime": {
     "end_time": "2025-03-30T23:02:58.149852Z",
     "start_time": "2025-03-30T23:02:58.142906Z"
    }
   },
   "cell_type": "code",
   "source": [
    "call_payoff = np.maximum(S - K, 0)\n",
    "put_payoff = np.maximum(K - S, 0)\n"
   ],
   "id": "810f1ce261465d74",
   "outputs": [],
   "execution_count": 3
  }
 ],
 "metadata": {
  "kernelspec": {
   "display_name": "Python 3",
   "language": "python",
   "name": "python3"
  },
  "language_info": {
   "codemirror_mode": {
    "name": "ipython",
    "version": 2
   },
   "file_extension": ".py",
   "mimetype": "text/x-python",
   "name": "python",
   "nbconvert_exporter": "python",
   "pygments_lexer": "ipython2",
   "version": "2.7.6"
  }
 },
 "nbformat": 4,
 "nbformat_minor": 5
}
