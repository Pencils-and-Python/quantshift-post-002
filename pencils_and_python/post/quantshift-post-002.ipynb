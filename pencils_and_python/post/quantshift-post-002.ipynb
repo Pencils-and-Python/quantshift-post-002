{
 "cells": [
  {
   "metadata": {},
   "cell_type": "markdown",
   "source": [
    "# When Options Have Slope: A Visual Guide to Call and Put Derivatives\n",
    "\n",
    "*“Wait... you can take the derivative of a call option?”*\n",
    "\n",
    "Turns out, not only **can you**, but doing so reveals the logic behind how option payoffs behave — and why they behave that way.\n",
    "\n",
    "In this notebook, we’ll explore the **derivatives of the basic call and put payoff functions** — not using stochastic models or PDEs, but just pure, visual calculus.\n",
    "\n",
    "This is part of my ongoing **Pencils & Python** series, where I document math and finance concepts as I work through foundational material in quant finance.\n"
   ],
   "id": "35929efdb3058072"
  },
  {
   "metadata": {},
   "cell_type": "code",
   "outputs": [],
   "execution_count": null,
   "source": "",
   "id": "daca22e3fa25410a"
  }
 ],
 "metadata": {
  "kernelspec": {
   "display_name": "Python 3",
   "language": "python",
   "name": "python3"
  },
  "language_info": {
   "codemirror_mode": {
    "name": "ipython",
    "version": 2
   },
   "file_extension": ".py",
   "mimetype": "text/x-python",
   "name": "python",
   "nbconvert_exporter": "python",
   "pygments_lexer": "ipython2",
   "version": "2.7.6"
  }
 },
 "nbformat": 4,
 "nbformat_minor": 5
}
