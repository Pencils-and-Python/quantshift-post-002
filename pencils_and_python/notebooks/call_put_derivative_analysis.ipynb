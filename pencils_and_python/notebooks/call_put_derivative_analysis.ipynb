{
 "cells": [
  {
   "metadata": {},
   "cell_type": "markdown",
   "source": [
    "# Pencils & Python – Visualizing Call and Put Option Payoffs with Derivatives\n",
    "\n",
    "Exploring how the derivative of a call and put option payoff function reflects the economics of the option itself.\n"
   ],
   "id": "fa79b15596e4643c"
  },
  {
   "metadata": {
    "ExecuteTime": {
     "end_time": "2025-03-30T21:19:38.804187Z",
     "start_time": "2025-03-30T21:19:37.945059Z"
    }
   },
   "cell_type": "code",
   "source": [
    "import numpy as np\n",
    "import matplotlib as plt\n"
   ],
   "id": "9ae8189a32d003e5",
   "outputs": [],
   "execution_count": 1
  },
  {
   "metadata": {},
   "cell_type": "markdown",
   "source": "## 🧪 Step 1: Define Strike and Stock Price Range",
   "id": "b8c10f66bf586f82"
  },
  {
   "metadata": {
    "ExecuteTime": {
     "end_time": "2025-03-30T21:24:05.943754Z",
     "start_time": "2025-03-30T21:24:05.929225Z"
    }
   },
   "cell_type": "code",
   "source": [
    "# Define strike price\n",
    "K = 100\n",
    "\n",
    "# Create a range of stock prices\n",
    "S = np.linspace(80, 120, 1000)"
   ],
   "id": "601d419fd6ba5826",
   "outputs": [],
   "execution_count": 2
  },
  {
   "metadata": {},
   "cell_type": "markdown",
   "source": [
    "### Step 1: Define the Strike Price and Stock Price Range\n",
    "\n",
    "We start by setting a **strike price** of \\$100 and creating a range of **stock prices (\\( S_T \\))** from \\$80 to \\$120.\n",
    "\n",
    "This allows us to visualize how the option payoff behaves **before and after the strike**.\n",
    "\n",
    "\n"
   ],
   "id": "3c04f10ed9d5f0ae"
  },
  {
   "metadata": {},
   "cell_type": "markdown",
   "source": [
    "### Breaking down the code:\n",
    "We use `np.linspace(80, 120, 1000)` to create a smooth range of stock prices between \\$80 and \\$120. The `1000` value means we'll generate 1000 equally spaced values — which gives us enough detail to clearly visualize the shape of the payoff and the sudden jump at the strike price.\n"
   ],
   "id": "d192fda222982590"
  },
  {
   "metadata": {},
   "cell_type": "markdown",
   "source": "## 🧪 Step 2: Define the Call and Put Payoffs",
   "id": "1ac4a7a10582b9f3"
  },
  {
   "metadata": {
    "ExecuteTime": {
     "end_time": "2025-03-30T21:30:38.611480Z",
     "start_time": "2025-03-30T21:30:38.601526Z"
    }
   },
   "cell_type": "code",
   "source": [
    "# Payoff functions\n",
    "call_payoff = np.maximum(S - K, 0)\n",
    "put_payoff = np.maximum(K - S, 0)\n"
   ],
   "id": "ec6e40f55d8be0e4",
   "outputs": [],
   "execution_count": 3
  },
  {
   "metadata": {},
   "cell_type": "code",
   "outputs": [],
   "execution_count": null,
   "source": "",
   "id": "6720727dc190ded8"
  }
 ],
 "metadata": {
  "kernelspec": {
   "display_name": "Python 3",
   "language": "python",
   "name": "python3"
  },
  "language_info": {
   "codemirror_mode": {
    "name": "ipython",
    "version": 2
   },
   "file_extension": ".py",
   "mimetype": "text/x-python",
   "name": "python",
   "nbconvert_exporter": "python",
   "pygments_lexer": "ipython2",
   "version": "2.7.6"
  }
 },
 "nbformat": 4,
 "nbformat_minor": 5
}
